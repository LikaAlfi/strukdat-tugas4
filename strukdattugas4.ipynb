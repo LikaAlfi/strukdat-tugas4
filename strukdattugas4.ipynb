{
  "nbformat": 4,
  "nbformat_minor": 0,
  "metadata": {
    "colab": {
      "provenance": [],
      "authorship_tag": "ABX9TyPb7bV4p1xLX2BUwXcY2L1N",
      "include_colab_link": true
    },
    "kernelspec": {
      "name": "python3",
      "display_name": "Python 3"
    },
    "language_info": {
      "name": "python"
    }
  },
  "cells": [
    {
      "cell_type": "markdown",
      "metadata": {
        "id": "view-in-github",
        "colab_type": "text"
      },
      "source": [
        "<a href=\"https://colab.research.google.com/github/LikaAlfi/strukdat-tugas4/blob/main/strukdattugas4.ipynb\" target=\"_parent\"><img src=\"https://colab.research.google.com/assets/colab-badge.svg\" alt=\"Open In Colab\"/></a>"
      ]
    },
    {
      "cell_type": "code",
      "execution_count": null,
      "metadata": {
        "colab": {
          "base_uri": "https://localhost:8080/"
        },
        "id": "x1QkvGusN_6Q",
        "outputId": "0fd12f7c-fb13-4809-ceda-fca2b4d6ddb3"
      },
      "outputs": [
        {
          "output_type": "stream",
          "name": "stdout",
          "text": [
            "Queue setelah enqueue : [10, 20, 30]\n",
            "Dequeued element : 10\n",
            "Front element: 20\n",
            "Rear element: 30\n",
            "queue Size : 2\n"
          ]
        }
      ],
      "source": [
        "# implementasi queue menggunakan list\n",
        "class QueueList:\n",
        "  def __init__(self):\n",
        "    self.queue = []\n",
        "\n",
        "  def enqueue(self, item):\n",
        "    self.queue.append(item)\n",
        "\n",
        "  def dequeue(self):\n",
        "    if not self.is_empty():\n",
        "      return self.queue.pop(0)\n",
        "    return None\n",
        "\n",
        "  def front(self):\n",
        "    return self.queue[0] if not self.is_empty() else None\n",
        "\n",
        "  def rear(self):\n",
        "    return self.queue[-1] if not self.is_empty() else None\n",
        "\n",
        "  def is_empty(self):\n",
        "    return len(self.queue) == 0\n",
        "\n",
        "  def size(self):\n",
        "    return len(self.queue)\n",
        "\n",
        "# contoh penggunaan\n",
        "queue = QueueList()\n",
        "queue.enqueue(10)\n",
        "queue.enqueue(20)\n",
        "queue.enqueue(30)\n",
        "print(\"Queue setelah enqueue :\", queue.queue)\n",
        "print(\"Dequeued element :\", queue.dequeue())\n",
        "print(\"Front element:\", queue.front())\n",
        "print(\"Rear element:\", queue.rear())\n",
        "print(\"queue Size :\", queue.size())"
      ]
    },
    {
      "cell_type": "code",
      "source": [
        "from collections import deque\n",
        "\n",
        "# implementasi queue menggunakan deque\n",
        "class QueueDeque:\n",
        "  def __init__(self):\n",
        "    self.queue = deque()\n",
        "\n",
        "  def enqueue(self, item):\n",
        "    self.queue.append(item)\n",
        "\n",
        "  def dequeue(self):\n",
        "    return self.queue.popleft() if not self.is_empty() else None\n",
        "\n",
        "  def front(self):\n",
        "    return self.queue[0] if not self.is_empty() else None\n",
        "\n",
        "  def rear(self):\n",
        "    return self.queue[-1] if not self.is_empty() else None\n",
        "\n",
        "  def is_empty(self):\n",
        "    return len(self.queue) == 0\n",
        "\n",
        "  def size(self):\n",
        "    return len(self.queue)\n",
        "\n",
        "# contoh penggunaan\n",
        "queue = QueueDeque()\n",
        "queue.enqueue(10)\n",
        "queue.enqueue(20)\n",
        "queue.enqueue(30)\n",
        "print(\"Queue setelah enqueue :\", (queue.queue))\n",
        "print(\"Dequeued element :\", queue.dequeue())\n",
        "print(\"Front element:\", queue.front())\n",
        "print(\"Rear element:\", queue.rear())\n",
        "print(\"queue Size :\", queue.size())"
      ],
      "metadata": {
        "colab": {
          "base_uri": "https://localhost:8080/"
        },
        "id": "ZXq_g_MzST8I",
        "outputId": "b3211df7-4e4a-40b7-c440-6cce2c511b57"
      },
      "execution_count": null,
      "outputs": [
        {
          "output_type": "stream",
          "name": "stdout",
          "text": [
            "Queue setelah enqueue : deque([10, 20, 30])\n",
            "Dequeued element : 10\n",
            "Front element: 20\n",
            "Rear element: 30\n",
            "queue Size : 2\n"
          ]
        }
      ]
    },
    {
      "cell_type": "code",
      "source": [
        "from queue import Queue\n",
        "\n",
        "# implementasi Queue menggunakan queue.Queue\n",
        "queue = Queue()\n",
        "\n",
        "queue.put(10)\n",
        "queue.put(20)\n",
        "queue.put(30)\n",
        "\n",
        "print(\"Queue size : \", queue.qsize())\n",
        "print(\"Dequeued element :\", queue.get())\n",
        "print(\"queue Size setelah dequeue :\", queue.qsize())"
      ],
      "metadata": {
        "colab": {
          "base_uri": "https://localhost:8080/"
        },
        "id": "mDVkrgSYUIlw",
        "outputId": "42cc590f-3ff3-4ede-9a8d-1461e270f62a"
      },
      "execution_count": null,
      "outputs": [
        {
          "output_type": "stream",
          "name": "stdout",
          "text": [
            "Queue size :  3\n",
            "Dequeued element : 10\n",
            "queue Size setelah dequeue : 2\n"
          ]
        }
      ]
    },
    {
      "cell_type": "code",
      "source": [
        "class Node:\n",
        "  def __init__(self, data):\n",
        "    self.data = data\n",
        "    self.next = None\n",
        "\n",
        "class QueueLinkedList:\n",
        "  def __init__(self):\n",
        "    self.front = self.rear = None\n",
        "\n",
        "  def enqueue(self, data):\n",
        "    new_node = Node(data)\n",
        "    if self.rear is None:\n",
        "      self.front = self.rear = new_node\n",
        "      return\n",
        "    self.rear.next = new_node\n",
        "    self.rear = new_node\n",
        "\n",
        "  def dequeue(self):\n",
        "    if self.front is None:\n",
        "      return None\n",
        "    dequeued_element = self.front.data\n",
        "    self.front = self.front.next\n",
        "    if self.front is None:\n",
        "      self.rear = None\n",
        "    return dequeued_element\n",
        "\n",
        "  def is_empty(self):\n",
        "    return self.front is None\n",
        "\n",
        "  def front_element(self):\n",
        "    return self.front.data if self.front else None\n",
        "\n",
        "  def rear_element(self):\n",
        "    return self.rear.data if self.rear else None\n",
        "\n",
        "# contoh penggunaan\n",
        "queue = QueueLinkedList()\n",
        "queue.enqueue(10)\n",
        "queue.enqueue(20)\n",
        "queue.enqueue(30)\n",
        "print(\"Dequeued element :\", queue.dequeue())\n",
        "print(\"Front element:\", queue.front_element())\n",
        "print(\"Rear element:\", queue.rear_element())"
      ],
      "metadata": {
        "colab": {
          "base_uri": "https://localhost:8080/"
        },
        "id": "p_SAu8-wU-n4",
        "outputId": "5def9d7e-2e82-49c9-c563-9bb7f6509e4c"
      },
      "execution_count": null,
      "outputs": [
        {
          "output_type": "stream",
          "name": "stdout",
          "text": [
            "Dequeued element : 10\n",
            "Front element: 20\n",
            "Rear element: 30\n"
          ]
        }
      ]
    },
    {
      "cell_type": "code",
      "source": [
        "# Latihan 1\n",
        "# Antrian Pemesanan Tiket Bioskop\n",
        "class TiketQueue:\n",
        "    def __init__(self, maks_size=5):\n",
        "        self.queue = []\n",
        "        self.maks_size = maks_size\n",
        "\n",
        "    def is_empty(self):\n",
        "        return len(self.queue) == 0\n",
        "\n",
        "    def size(self):\n",
        "        return len(self.queue)\n",
        "\n",
        "    def enqueue(self, tiket_id):\n",
        "        if '9' in tiket_id:\n",
        "            print(f\"VIP Customer {tiket_id} langsung mendapatkan kursi!\")\n",
        "        elif self.size() < self.maks_size:\n",
        "            self.queue.append(tiket_id)\n",
        "            print(f\"Pelanggan {tiket_id} ditambahkan ke antrian.\")\n",
        "        else:\n",
        "            print(\"Antrian penuh! Harap tunggu hingga ada slot kosong.\")\n",
        "\n",
        "    def dequeue(self):\n",
        "        if self.is_empty():\n",
        "            print(\"Antrian kosong, tidak ada pelanggan yang bisa dilayani.\")\n",
        "            return None\n",
        "        Dilayani = self.queue.pop(0)\n",
        "        print(f\"Pelanggan {Dilayani} telah dilayani dan keluar dari antrian.\")\n",
        "        return Dilayani\n",
        "\n",
        "    def front(self):\n",
        "        if self.is_empty():\n",
        "            print(\"Antrian kosong.\")\n",
        "            return None\n",
        "        print(f\"Pelanggan pertama dalam antrian  : {self.queue[0]}\")\n",
        "        return self.queue[0]\n",
        "\n",
        "    def rear(self):\n",
        "        if self.is_empty():\n",
        "            print(\"Antrian kosong.\")\n",
        "            return None\n",
        "        print(f\"Pelanggan terakhir dalam antrian : {self.queue[-1]}\")\n",
        "        return self.queue[-1]\n",
        "\n",
        "# Contoh penggunaan\n",
        "bioskop = TiketQueue()\n",
        "\n",
        "# Menambahkan pelanggan ke antrian\n",
        "bioskop.enqueue(\"NA12\")\n",
        "bioskop.enqueue(\"SE13\")\n",
        "bioskop.enqueue(\"FA19\")  # VIP\n",
        "bioskop.enqueue(\"SI14\")\n",
        "bioskop.enqueue(\"RA09\")  # VIP\n",
        "bioskop.enqueue(\"SE11\")  # Antrian penuh\n",
        "\n",
        "# Melihat pelanggan di depan dan belakang\n",
        "bioskop.front()\n",
        "bioskop.rear()\n",
        "\n",
        "# Melayani pelanggan\n",
        "bioskop.dequeue()\n",
        "bioskop.dequeue()\n",
        "\n",
        "# Cek ukuran antrian\n",
        "print(\"Jumlah pelanggan dalam antrian  :\", bioskop.size())"
      ],
      "metadata": {
        "colab": {
          "base_uri": "https://localhost:8080/"
        },
        "id": "XHgkAUk3MjxX",
        "outputId": "365f679d-bfc5-45b4-8ee0-f1e2b029f7ae"
      },
      "execution_count": 6,
      "outputs": [
        {
          "output_type": "stream",
          "name": "stdout",
          "text": [
            "Pelanggan NA12 ditambahkan ke antrian.\n",
            "Pelanggan SE13 ditambahkan ke antrian.\n",
            "VIP Customer FA19 langsung mendapatkan kursi!\n",
            "Pelanggan SI14 ditambahkan ke antrian.\n",
            "VIP Customer RA09 langsung mendapatkan kursi!\n",
            "Pelanggan SE11 ditambahkan ke antrian.\n",
            "Pelanggan pertama dalam antrian  : NA12\n",
            "Pelanggan terakhir dalam antrian : SE11\n",
            "Pelanggan NA12 telah dilayani dan keluar dari antrian.\n",
            "Pelanggan SE13 telah dilayani dan keluar dari antrian.\n",
            "Jumlah pelanggan dalam antrian  : 2\n"
          ]
        }
      ]
    },
    {
      "cell_type": "code",
      "source": [
        "# latihan 2\n",
        "# antrian layanan fotokopi kampus\n",
        "\n",
        "class FotokopiQueue:\n",
        "  def __init__(self):\n",
        "    self.queue = []\n",
        "\n",
        "  def is_empty(self):\n",
        "    return len(self.queue) == 0\n",
        "\n",
        "  def size(self):\n",
        "    return len(self.queue)\n",
        "\n",
        "  def enqueue(self, order_id, num_pages):\n",
        "    if num_pages < 10:\n",
        "      print(f\"Pesanan {order_id} mendapat Fast Track! Pesanan langsung diproses.\")\n",
        "    else:\n",
        "      self.queue.append((order_id, num_pages))\n",
        "      print(f\"Pesanan {order_id} ({num_pages} halaman) ditambahkan ke antrian.\")\n",
        "\n",
        "  def dequeue(self):\n",
        "    if self.is_empty():\n",
        "      print(\"Antrian kosong, tidak ada pesanan yang bisa diproses.\")\n",
        "      return None\n",
        "    order_id, num_pages = self.queue.pop(0)\n",
        "    if num_pages > 100:\n",
        "      sisa_halaman = num_pages - 50\n",
        "      self.queue.append((order_id, sisa_halaman))\n",
        "      print(f\"Pesanan {order_id} akan diproses 50 halaman terlebih dahulu, sisa {sisa_halaman} halaman akan diproses setelah 50 halaman ini dan tetap dalam antrian.\")\n",
        "    else:\n",
        "      print(f\"Pesanan {order_id} ({num_pages} halaman) telah selesai diproses.\")\n",
        "    return order_id\n",
        "\n",
        "  def front(self):\n",
        "    if self.is_empty():\n",
        "      print(\"Antrian kosong.\")\n",
        "      return None\n",
        "    print(f\"Pesanan pertama dalam antrian  : {self.queue[0] [0]} ({self.queue[0][1]} halaman)\")\n",
        "    return self.queue[0] [0]\n",
        "\n",
        "  def rear(self):\n",
        "    if self.is_empty():\n",
        "      print(\"Antrian kosong.\")\n",
        "      return None\n",
        "    print(f\"Pesanan terakhir dalam antrian : {self.queue[-1][0]} ({self.queue[-1][1]} halaman)\")\n",
        "    return self.queue[-1][0]\n",
        "\n",
        "# Contoh penggunaan\n",
        "fotokopi = FotokopiQueue()\n",
        "\n",
        "# menambahakan pesanan\n",
        "fotokopi.enqueue(\"FAD10\", 200)\n",
        "fotokopi.enqueue(\"NAD12\", 7)\n",
        "fotokopi.enqueue(\"SEP14\", 60)\n",
        "\n",
        "# melihat pesanan pertama dan terakhir\n",
        "fotokopi.front()\n",
        "fotokopi.rear()\n",
        "\n",
        "# memproses pesanan\n",
        "fotokopi.dequeue()\n",
        "fotokopi.dequeue()\n",
        "\n",
        "# cek ukuran antrian\n",
        "print(\"Jumlah pesanan dalam antrian  :\", fotokopi.size())"
      ],
      "metadata": {
        "colab": {
          "base_uri": "https://localhost:8080/"
        },
        "id": "M2vaARvHFXin",
        "outputId": "e6ce3d83-9644-446e-d77d-b4f9c7fb537b"
      },
      "execution_count": 7,
      "outputs": [
        {
          "output_type": "stream",
          "name": "stdout",
          "text": [
            "Pesanan FAD10 (200 halaman) ditambahkan ke antrian.\n",
            "Pesanan NAD12 mendapat Fast Track! Pesanan langsung diproses.\n",
            "Pesanan SEP14 (60 halaman) ditambahkan ke antrian.\n",
            "Pesanan pertama dalam antrian  : FAD10 (200 halaman)\n",
            "Pesanan terakhir dalam antrian : SEP14 (60 halaman)\n",
            "Pesanan FAD10 akan diproses 50 halaman terlebih dahulu, sisa 150 halaman akan diproses setelah 50 halaman ini dan tetap dalam antrian.\n",
            "Pesanan SEP14 (60 halaman) telah selesai diproses.\n",
            "Jumlah pesanan dalam antrian  : 1\n"
          ]
        }
      ]
    },
    {
      "cell_type": "code",
      "source": [
        "# latihan 3\n",
        "# antrian layanan parkir mall\n",
        "\n",
        "class ParkirQueue:\n",
        "  def __init__(self, maks_kapasitas=5):\n",
        "    self.queue = []\n",
        "    self.maks_kapasitas = maks_kapasitas\n",
        "\n",
        "  def is_empty(self):\n",
        "    return len(self.queue) == 0\n",
        "\n",
        "  def size(self):\n",
        "    return len(self.queue)\n",
        "\n",
        "  def enqueue(self, plat_nomor, is_KendaraanListrik=False):\n",
        "    if self.size() >= self.maks_kapasitas:\n",
        "      print(\"Parkiran penuh! Harap tunggu hingga parkir kosong.\")\n",
        "      return\n",
        "    if is_KendaraanListrik:\n",
        "      self.queue.insert(0, plat_nomor)\n",
        "      print(f\"Kendaraan listrik {plat_nomor} mendapatkan parkir prioritas!\")\n",
        "    else:\n",
        "      self.queue.append(plat_nomor)\n",
        "      print(f\"Kendaraan {plat_nomor} masuk ke parkiran.\")\n",
        "\n",
        "  def dequeue(self):\n",
        "    if self.is_empty():\n",
        "      print(\"Parkiran kosong, tidak ada kendaraan yang parkir.\")\n",
        "      return None\n",
        "    Kendaraan = self.queue.pop(0)\n",
        "    print(f\"Kendaraan {Kendaraan} telah keluar dari parkiran.\")\n",
        "    return Kendaraan\n",
        "\n",
        "  def front(self):\n",
        "    if self.is_empty():\n",
        "      print(\"Parkiran kosong.\")\n",
        "      return None\n",
        "    print(f\"Kendaraan pertama dalam parkiran  : {self.queue[0]}\")\n",
        "    return self.queue[0]\n",
        "\n",
        "  def rear(self):\n",
        "    if self.is_empty():\n",
        "      print(\"Parkiran kosong.\")\n",
        "      return None\n",
        "    print(f\"Kendaraan terakhir dalam parkiran : {self.queue[-1]}\")\n",
        "    return self.queue[-1]\n",
        "\n",
        "# contoh penggunaan\n",
        "parkiran = ParkirQueue()\n",
        "parkiran.enqueue(\"MA10, is_KendaraanListrik=True\")\n",
        "parkiran.enqueue(\"KE12\")\n",
        "parkiran.enqueue(\"KL13\")\n",
        "parkiran.front()\n",
        "parkiran.rear ()\n",
        "parkiran.dequeue()\n",
        "parkiran.dequeue()\n",
        "print(\"Jumlah kendaraan dalam parkiran  :\", parkiran.size())"
      ],
      "metadata": {
        "colab": {
          "base_uri": "https://localhost:8080/"
        },
        "id": "cGX2QqP0P4zK",
        "outputId": "c133e1c1-8ec0-4183-db9b-3d77304cb172"
      },
      "execution_count": 19,
      "outputs": [
        {
          "output_type": "stream",
          "name": "stdout",
          "text": [
            "Kendaraan MA10, is_KendaraanListrik=True masuk ke parkiran.\n",
            "Kendaraan KE12 masuk ke parkiran.\n",
            "Kendaraan KL13 masuk ke parkiran.\n",
            "Kendaraan pertama dalam parkiran  : MA10, is_KendaraanListrik=True\n",
            "Kendaraan terakhir dalam parkiran : KL13\n",
            "Kendaraan MA10, is_KendaraanListrik=True telah keluar dari parkiran.\n",
            "Kendaraan KE12 telah keluar dari parkiran.\n",
            "Jumlah kendaraan dalam parkiran  : 1\n"
          ]
        }
      ]
    },
    {
      "cell_type": "code",
      "source": [
        "# latihan 4\n",
        "# antrian pengamblan sertifikat dikampus\n",
        "\n",
        "class SertikatQueue:\n",
        "  def __init__(self, maks_kapasitas=20):\n",
        "    self.reguler = []\n",
        "    self.prestasi = []\n",
        "    self.maks_kapasitas = maks_kapasitas\n",
        "\n",
        "  def is_empty(self):\n",
        "    return len(self.reguler) == 0 and len(self.prestasi) == 0\n",
        "\n",
        "  def size(self):\n",
        "    return len(self.reguler) + len(self.prestasi)\n",
        "\n",
        "  def enqueue(self, student_id, is_prestasi=False):\n",
        "    if is_prestasi:\n",
        "      self.prestasi.insert(0, student_id)\n",
        "      print(f\"Mahasiswa Berprestasi {student_id} dapat langsung mengambil sertifikat.\")\n",
        "    else:\n",
        "      if self.size() >= self.maks_kapasitas:\n",
        "        print(\"Antrian penuh! Harap tunggu hingga antraian sebeleumnya selesai dilayani.\")\n",
        "        return\n",
        "      self.reguler.append(student_id)\n",
        "      print(f\"Mahasiswa Reguler {student_id} masuk ke dalam antrian pengambilan sertifikat.\")\n",
        "\n",
        "  def dequeue(self):\n",
        "    if not self.is_empty():\n",
        "      if self.prestasi:\n",
        "        student_id = self.prestasi.pop(0)\n",
        "        print(f\"Mahasiswa Berprestasi {student_id} telah diambil sertifikat.\")\n",
        "        return student_id\n",
        "      else:\n",
        "        student_id = self.reguler.pop(0)\n",
        "        print(f\"Mahasiswa Reguler {student_id} telah diambil sertifikat.\")\n",
        "        return student_id\n",
        "    else:\n",
        "      print(\"Antrian kosong, tidak ada mahasiswa yang mengambil sertifikat.\")\n",
        "      return None\n",
        "\n",
        "  def front(self):\n",
        "    if self.is_empty():\n",
        "      print(\"Antrian kosong.\")\n",
        "      return None\n",
        "    mahasiswa_pertama = self.prestasi[0] if self.prestasi else self.reguler[0]\n",
        "    print(f\"Mahasiswa pertama dalam antrian  : {mahasiswa_pertama}\")\n",
        "    return mahasiswa_pertama\n",
        "\n",
        "  def rear(self):\n",
        "    if self.is_empty():\n",
        "      print(\"Antrian kosong.\")\n",
        "      return None\n",
        "    mahasiswa_terakhir = self.reguler[-1] if self.reguler else self.prestasi[-1]\n",
        "    print(f\"Mahasiswa terakhir dalam antrian : {mahasiswa_terakhir}\")\n",
        "    return mahasiswa_terakhir\n",
        "\n",
        "# contoh penggunaan\n",
        "antrian_sertifikat = SertikatQueue()\n",
        "antrian_sertifikat.enqueue(241, is_prestasi=True)\n",
        "antrian_sertifikat.enqueue(242)\n",
        "antrian_sertifikat.enqueue(243)\n",
        "antrian_sertifikat.enqueue(244, is_prestasi=True)\n",
        "antrian_sertifikat.enqueue(245)\n",
        "antrian_sertifikat.enqueue(246)\n",
        "antrian_sertifikat.enqueue(247, is_prestasi=True)\n",
        "antrian_sertifikat.front()\n",
        "antrian_sertifikat.rear()\n",
        "antrian_sertifikat.dequeue()\n",
        "antrian_sertifikat.dequeue()\n",
        "print(\"Jumlah mahasiswa dalam antrian  :\", antrian_sertifikat.size())\n"
      ],
      "metadata": {
        "colab": {
          "base_uri": "https://localhost:8080/"
        },
        "id": "9FIGqh3wjQLE",
        "outputId": "20863411-7e78-4183-c45e-e46bfbe05e19"
      },
      "execution_count": 24,
      "outputs": [
        {
          "output_type": "stream",
          "name": "stdout",
          "text": [
            "Mahasiswa Berprestasi 241 dapat langsung mengambil sertifikat.\n",
            "Mahasiswa Reguler 242 masuk ke dalam antrian pengambilan sertifikat.\n",
            "Mahasiswa Reguler 243 masuk ke dalam antrian pengambilan sertifikat.\n",
            "Mahasiswa Berprestasi 244 dapat langsung mengambil sertifikat.\n",
            "Mahasiswa Reguler 245 masuk ke dalam antrian pengambilan sertifikat.\n",
            "Mahasiswa Reguler 246 masuk ke dalam antrian pengambilan sertifikat.\n",
            "Mahasiswa Berprestasi 247 dapat langsung mengambil sertifikat.\n",
            "Mahasiswa pertama dalam antrian  : 247\n",
            "Mahasiswa terakhir dalam antrian : 246\n",
            "Mahasiswa Berprestasi 247 telah diambil sertifikat.\n",
            "Mahasiswa Berprestasi 244 telah diambil sertifikat.\n",
            "Jumlah mahasiswa dalam antrian  : 5\n"
          ]
        }
      ]
    },
    {
      "cell_type": "markdown",
      "source": [],
      "metadata": {
        "id": "s4EgCtn2KlWX"
      }
    }
  ]
}